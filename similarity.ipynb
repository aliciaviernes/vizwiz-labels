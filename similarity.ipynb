{
 "cells": [
  {
   "cell_type": "code",
   "execution_count": 29,
   "metadata": {},
   "outputs": [],
   "source": [
    "from gensim.models import KeyedVectors\n",
    "import csv\n",
    "import numpy as np\n",
    "import pandas as pd\n",
    "from sklearn.cluster import KMeans"
   ]
  },
  {
   "cell_type": "code",
   "execution_count": 28,
   "metadata": {},
   "outputs": [],
   "source": [
    "# Load local glove file - 50d, 100d, 200d, 300d - to word2vec format\n",
    "glove_file = 'glove/glove.6B.50d.txt'\n",
    "wv_base = KeyedVectors.load_word2vec_format(glove_file, binary=False, no_header=True)"
   ]
  },
  {
   "cell_type": "code",
   "execution_count": 30,
   "metadata": {},
   "outputs": [],
   "source": [
    "# Read keywords from another file\n",
    "keywords = list()\n",
    "with open('keywords_new_train.csv', newline='') as csvfile:\n",
    "    reader = csv.reader(csvfile)\n",
    "    for row in reader:\n",
    "        keywords.extend(row)"
   ]
  },
  {
   "cell_type": "code",
   "execution_count": 31,
   "metadata": {},
   "outputs": [],
   "source": [
    "# Exclude duplicates\n",
    "keywords = list(set(keywords))"
   ]
  },
  {
   "cell_type": "code",
   "execution_count": 32,
   "metadata": {},
   "outputs": [],
   "source": [
    "# a way to average embeddings.\n",
    "# if a word can't be found in the GloVe model it is excluded\n",
    "def calculate_embeddings(keyword):\n",
    "    global wv_base\n",
    "    individual = keyword.split(' ')\n",
    "    embs_added = np.zeros(50)\n",
    "    if individual[0] in wv_base:\n",
    "        embs_added = wv_base[individual[0]].copy()\n",
    "    for word in individual[1:]:\n",
    "        if word in wv_base:\n",
    "            embs_added += wv_base[word].copy()\n",
    "    return embs_added / len(individual)"
   ]
  },
  {
   "cell_type": "code",
   "execution_count": 33,
   "metadata": {},
   "outputs": [],
   "source": [
    "# Embeddings for K-means clustering\n",
    "X = list()\n",
    "for kw in keywords:\n",
    "    embedding = calculate_embeddings(kw)\n",
    "    X.append(embedding)"
   ]
  },
  {
   "cell_type": "code",
   "execution_count": 34,
   "metadata": {},
   "outputs": [],
   "source": [
    "# Sanity check\n",
    "for embedding in X:\n",
    "    assert len(embedding) == 50"
   ]
  },
  {
   "cell_type": "code",
   "execution_count": 35,
   "metadata": {},
   "outputs": [],
   "source": [
    "# Fit embeddings to clustering model\n",
    "kmeans = KMeans(n_clusters=5, random_state=0).fit(X)"
   ]
  },
  {
   "cell_type": "code",
   "execution_count": 36,
   "metadata": {},
   "outputs": [],
   "source": [
    "# Another sanity check\n",
    "labels = list(kmeans.labels_)\n",
    "assert len(labels) == len(keywords)"
   ]
  },
  {
   "cell_type": "code",
   "execution_count": 37,
   "metadata": {},
   "outputs": [],
   "source": [
    "groups = dict()\n",
    "for label, keyword in zip(labels, keywords):\n",
    "    if label not in groups:\n",
    "        groups[label] = list()\n",
    "    groups[label].append(keyword)"
   ]
  },
  {
   "cell_type": "code",
   "execution_count": 38,
   "metadata": {},
   "outputs": [],
   "source": [
    "max_len = 0\n",
    "for v in groups.values():\n",
    "    if len(v) > max_len:\n",
    "        max_len = len(v)"
   ]
  },
  {
   "cell_type": "code",
   "execution_count": 39,
   "metadata": {},
   "outputs": [],
   "source": [
    "# Pad to max\n",
    "for k, v in groups.items():\n",
    "    v += [''] * (max_len - len(v))\n",
    "    groups[k] = v"
   ]
  },
  {
   "cell_type": "code",
   "execution_count": 40,
   "metadata": {},
   "outputs": [],
   "source": [
    "df = pd.DataFrame({k:v for k,v in groups.items()})\n",
    "df = df.reindex(sorted(df.columns), axis=1)\n",
    "df.to_csv('out_new_train.csv', index=False) "
   ]
  }
 ],
 "metadata": {
  "interpreter": {
   "hash": "31f2aee4e71d21fbe5cf8b01ff0e069b9275f58929596ceb00d14d90e3e16cd6"
  },
  "kernelspec": {
   "display_name": "Python 3.8.10 64-bit",
   "language": "python",
   "name": "python3"
  },
  "language_info": {
   "codemirror_mode": {
    "name": "ipython",
    "version": 3
   },
   "file_extension": ".py",
   "mimetype": "text/x-python",
   "name": "python",
   "nbconvert_exporter": "python",
   "pygments_lexer": "ipython3",
   "version": "3.8.10"
  },
  "orig_nbformat": 4
 },
 "nbformat": 4,
 "nbformat_minor": 2
}
