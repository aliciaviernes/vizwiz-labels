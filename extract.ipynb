{
 "cells": [
  {
   "cell_type": "code",
   "execution_count": 5,
   "metadata": {},
   "outputs": [],
   "source": [
    "# annotations_path is the path to vizwiz/annotations folder.\n",
    "from typing import Dict, List\n",
    "from paths import annotations_path\n",
    "from collections import Counter\n",
    "import json, string, csv\n",
    "from itertools import dropwhile\n",
    "from textblob import TextBlob"
   ]
  },
  {
   "cell_type": "code",
   "execution_count": 6,
   "metadata": {},
   "outputs": [],
   "source": [
    "def collect_words(split: string) -> Dict:\n",
    "    # Collects all NPs from the captions of each image.\n",
    "    # Returns a dict with image ids and the corresponding tokens\n",
    "    img_tokens = dict()\n",
    "    \n",
    "    with open(f'{annotations_path}{split}.json') as json_file:\n",
    "        data = json.load(json_file)\n",
    "    \n",
    "    annotations = data['annotations']\n",
    "    \n",
    "    for item in annotations:\n",
    "        imgid = item['image_id']\n",
    "        if imgid not in img_tokens:\n",
    "            img_tokens[imgid] = set()\n",
    "        useful_tokens = TextBlob(item['caption']).noun_phrases\n",
    "        for token in useful_tokens:\n",
    "            img_tokens[imgid].add(token)\n",
    "    \n",
    "    return img_tokens"
   ]
  },
  {
   "cell_type": "code",
   "execution_count": 3,
   "metadata": {},
   "outputs": [],
   "source": [
    "def count_tokens(tokens: dict, threshold: int) -> Counter:\n",
    "    # count tokens\n",
    "    c = Counter()\n",
    "    for subset in tokens.values():\n",
    "        for token in subset:\n",
    "            c[token] += 1\n",
    "    # remove smaller than threshold\n",
    "    for key, count in dropwhile(lambda key_count: key_count[1]>=threshold, c.most_common()):\n",
    "        del c[key]\n",
    "    return c\n"
   ]
  },
  {
   "cell_type": "code",
   "execution_count": 7,
   "metadata": {},
   "outputs": [],
   "source": [
    "x = collect_words('train')"
   ]
  },
  {
   "cell_type": "code",
   "execution_count": 11,
   "metadata": {},
   "outputs": [],
   "source": [
    "# x = collect_words('train')\n",
    "y = collect_words('val')\n",
    "# split = split_train.union(split_val)\n",
    "split = {**x, **y}"
   ]
  },
  {
   "cell_type": "code",
   "execution_count": 14,
   "metadata": {},
   "outputs": [],
   "source": [
    "count = count_tokens(x, 15)\n",
    "keywords = [key for key, _ in count.most_common()]"
   ]
  },
  {
   "cell_type": "code",
   "execution_count": 15,
   "metadata": {},
   "outputs": [],
   "source": [
    "with open('keywords_new_train.csv', 'w', newline='') as csvfile:\n",
    "    spamwriter = csv.writer(csvfile)\n",
    "    for kw in keywords:\n",
    "        spamwriter.writerow([kw])"
   ]
  }
 ],
 "metadata": {
  "interpreter": {
   "hash": "31f2aee4e71d21fbe5cf8b01ff0e069b9275f58929596ceb00d14d90e3e16cd6"
  },
  "kernelspec": {
   "display_name": "Python 3.8.10 64-bit",
   "language": "python",
   "name": "python3"
  },
  "language_info": {
   "codemirror_mode": {
    "name": "ipython",
    "version": 3
   },
   "file_extension": ".py",
   "mimetype": "text/x-python",
   "name": "python",
   "nbconvert_exporter": "python",
   "pygments_lexer": "ipython3",
   "version": "3.8.10"
  },
  "orig_nbformat": 4
 },
 "nbformat": 4,
 "nbformat_minor": 2
}
