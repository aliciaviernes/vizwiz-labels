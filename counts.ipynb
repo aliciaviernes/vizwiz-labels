{
 "cells": [
  {
   "cell_type": "code",
   "execution_count": 35,
   "metadata": {},
   "outputs": [],
   "source": [
    "from paths import annotations_path\n",
    "from statistics import mean, quantiles\n",
    "import matplotlib.pyplot as plt\n",
    "import pandas as pd\n",
    "import json"
   ]
  },
  {
   "cell_type": "code",
   "execution_count": 36,
   "metadata": {},
   "outputs": [],
   "source": [
    "# Define data paths\n",
    "base = \"/Users/alikianagnostopoulou/Data/vizwiz/annotations/\" # ???\n",
    "train_path = base + \"train.json\"\n",
    "val_path = base + \"val.json\""
   ]
  },
  {
   "cell_type": "code",
   "execution_count": 55,
   "metadata": {},
   "outputs": [],
   "source": [
    "# Define output paths -- COLOURS\n",
    "cluster_path = \"out.csv\"\n",
    "pic1 = \"outputs/colours.jpg\"\n",
    "first_json = \"outputs/colours_v1.json\"\n",
    "second_json = \"outputs/colours_v2.json\" \n",
    "in_title = \"incl.\"\n",
    "pic2 = \"outputs/colours_sents.jpg\""
   ]
  },
  {
   "cell_type": "code",
   "execution_count": 38,
   "metadata": {},
   "outputs": [],
   "source": [
    "# Define output paths -- NO COLOURS\n",
    "# cluster_path = \"out_nocolours.csv\"\n",
    "# pic1 = \"outputs/nocolours.jpg\"\n",
    "# first_json = \"outputs/nocolours_v1.json\"\n",
    "# second_json = \"outputs/nocolours_v2.json\"\n",
    "# in_title = \"excl.\"\n",
    "# pic2 = \"outputs/nocolours_sents.jpg\""
   ]
  },
  {
   "cell_type": "code",
   "execution_count": 56,
   "metadata": {},
   "outputs": [],
   "source": [
    "# Save keywords from \n",
    "keywords = dict()\n",
    "df = pd.read_csv(cluster_path)\n",
    "columns = list(df.columns)\n",
    "for col in columns:\n",
    "    if col not in keywords:\n",
    "        keywords[col] = list()\n",
    "    kws = df[col].tolist()\n",
    "    for k in kws:\n",
    "        if type(k) == str: # there are empty entries for the sake of the csv formatting\n",
    "            keywords[col].append(k)"
   ]
  },
  {
   "cell_type": "code",
   "execution_count": 57,
   "metadata": {},
   "outputs": [],
   "source": [
    "X, Y = list(), list()\n",
    "\n",
    "for k, v in keywords.items():\n",
    "    X.append(k)\n",
    "    Y.append(len(v))"
   ]
  },
  {
   "cell_type": "code",
   "execution_count": 58,
   "metadata": {},
   "outputs": [
    {
     "data": {
      "image/png": "[encoded data removed]",
      "text/plain": [
       "<Figure size 432x288 with 1 Axes>"
      ]
     },
     "metadata": {
      "needs_background": "light"
     },
     "output_type": "display_data"
    }
   ],
   "source": [
    "# Figure > BUG\n",
    "fig = plt.figure()\n",
    "ax = fig.add_axes([.1, .1, .75, .75])  # ax = fig.add_axes([0,0,1,1])\n",
    "ax.set_title(f\"Number of NPs in each cluster - {in_title} Colours\", y=1.1)\n",
    "ax.set_xlabel(\"Cluster nr\")\n",
    "ax.bar(X, Y)\n",
    "fig.savefig(pic1)"
   ]
  },
  {
   "cell_type": "code",
   "execution_count": 59,
   "metadata": {},
   "outputs": [],
   "source": [
    "with open(train_path, 'r') as jsonfile:\n",
    "    traindata = json.load(jsonfile)"
   ]
  },
  {
   "cell_type": "code",
   "execution_count": 60,
   "metadata": {},
   "outputs": [
    {
     "data": {
      "text/plain": [
       "['ITS IS A BASIL LEAVES CONTAINER ITS CONTAINS THE NET WEIGHT TOO.',\n",
       " 'A green and white plastic condiment bottle containing Basil leaves.',\n",
       " 'Quality issues are too severe to recognize visual content.',\n",
       " 'A bottle of spices in a plastic container laying on a surface.',\n",
       " 'some basil leaves in a container on a counter']"
      ]
     },
     "execution_count": 60,
     "metadata": {},
     "output_type": "execute_result"
    }
   ],
   "source": [
    "# Save captions with their image_id\n",
    "captions = dict()\n",
    "for cap in traindata[\"annotations\"]:\n",
    "    i = cap[\"image_id\"]; c = cap[\"caption\"]\n",
    "    if i not in captions:\n",
    "        captions[i] = list()\n",
    "    captions[i].append(c)\n",
    "\n",
    "captions[0]"
   ]
  },
  {
   "cell_type": "code",
   "execution_count": 61,
   "metadata": {},
   "outputs": [],
   "source": [
    "cluster2image = dict()\n",
    "\n",
    "# Coding from hell\n",
    "for id, sent in captions.items():\n",
    "    # for every image, create dict\n",
    "    cluster2image[id] = dict()\n",
    "    # for every sentence of the image...\n",
    "    for s in sent:\n",
    "        # look into keywords\n",
    "        for k, v in keywords.items():\n",
    "            # for each keyword...\n",
    "            for item in v:\n",
    "                # is the keyword in the sentence?\n",
    "                if item in s:\n",
    "                    # add cluster name to dict!\n",
    "                    if k not in cluster2image[id]:\n",
    "                        cluster2image[id][k] = 0\n",
    "                    cluster2image[id][k] += 1\n",
    "        "
   ]
  },
  {
   "cell_type": "code",
   "execution_count": 62,
   "metadata": {},
   "outputs": [],
   "source": [
    "# Save first version!\n",
    "with open(first_json, 'w') as jsonfile:\n",
    "    json.dump(cluster2image, jsonfile, indent=4, sort_keys=True)"
   ]
  },
  {
   "cell_type": "code",
   "execution_count": 63,
   "metadata": {},
   "outputs": [
    {
     "name": "stdout",
     "output_type": "stream",
     "text": [
      "21238\n"
     ]
    }
   ],
   "source": [
    "# BUG\n",
    "for img in cluster2image:\n",
    "    if cluster2image[img] == dict():\n",
    "        print(img)"
   ]
  },
  {
   "cell_type": "code",
   "execution_count": 65,
   "metadata": {},
   "outputs": [],
   "source": [
    "def keySwithmaxval(d):\n",
    "    itemMaxVal = max(d.items(), key=lambda x: x[1])\n",
    "    listOfKeys = list()\n",
    "    for k, v in d.items():\n",
    "        if v == itemMaxVal[1]:\n",
    "            listOfKeys.append(k)\n",
    "    return listOfKeys"
   ]
  },
  {
   "cell_type": "code",
   "execution_count": 66,
   "metadata": {},
   "outputs": [],
   "source": [
    "# Remove all insignificant ones\n",
    "cluster2image_c = dict()\n",
    "for img in cluster2image:\n",
    "    # fill empty dicts!\n",
    "    if cluster2image[img] != dict():\n",
    "        cluster2image_c[img] = keySwithmaxval(cluster2image[img])"
   ]
  },
  {
   "cell_type": "code",
   "execution_count": 67,
   "metadata": {},
   "outputs": [
    {
     "data": {
      "text/plain": [
       "True"
      ]
     },
     "execution_count": 67,
     "metadata": {},
     "output_type": "execute_result"
    }
   ],
   "source": [
    "# Is there any empty dict?\n",
    "many = list()\n",
    "for img in cluster2image_c:\n",
    "    if len(cluster2image_c[img]) == 0:\n",
    "        many.append(img)\n",
    "\n",
    "len(many) == 0"
   ]
  },
  {
   "cell_type": "code",
   "execution_count": 68,
   "metadata": {},
   "outputs": [],
   "source": [
    "# Save second version\n",
    "with open(second_json, 'w') as jsonfile:\n",
    "    json.dump(cluster2image_c, jsonfile, indent=4, sort_keys=True)"
   ]
  },
  {
   "cell_type": "code",
   "execution_count": 69,
   "metadata": {},
   "outputs": [],
   "source": [
    "# Visualize what's going on\n",
    "\n",
    "actual_counts = dict()\n",
    "\n",
    "for k, v in cluster2image_c.items():\n",
    "    for cluster in v:\n",
    "        if cluster not in actual_counts:\n",
    "            actual_counts[cluster] = 0\n",
    "        actual_counts[cluster] += 1\n"
   ]
  },
  {
   "cell_type": "code",
   "execution_count": 70,
   "metadata": {},
   "outputs": [
    {
     "name": "stdout",
     "output_type": "stream",
     "text": [
      "['0', '1', '2', '3', '4', '5', '6', '7', '8', '9', '10', '11', '12', '13', '14', '15', '16', '17', '18', '19']\n",
      "[1458, 1556, 965, 8103, 3969, 1588, 594, 377, 1142, 237, 608, 682, 3037, 1791, 1678, 1066, 138, 367, 514, 79]\n",
      "[682, 367, 594, 79, 1678, 965, 8103, 237, 377, 3037, 3969, 138, 1458, 1791, 514, 608, 1588, 1066, 1556, 1142]\n"
     ]
    }
   ],
   "source": [
    "X, Y = list(), list()\n",
    "\n",
    "for k, v in actual_counts.items():\n",
    "    X.append(int(k))\n",
    "    Y.append(v)\n",
    "\n",
    "Z = [x for _,x in sorted(zip(X,Y))]\n",
    "X = sorted(X)\n",
    "\n",
    "for i in range(len(X)):\n",
    "    X[i] = str(X[i])\n",
    "\n",
    "print(X); print(Y); print(Z)"
   ]
  },
  {
   "cell_type": "code",
   "execution_count": 71,
   "metadata": {},
   "outputs": [],
   "source": [
    "# STATISTICS\n",
    "\n",
    "mean_Y = mean(Z)\n",
    "quantiles_Y = quantiles(Z)"
   ]
  },
  {
   "cell_type": "code",
   "execution_count": 72,
   "metadata": {},
   "outputs": [
    {
     "data": {
      "image/png": "[encoded data removed]",
      "text/plain": [
       "<Figure size 432x288 with 1 Axes>"
      ]
     },
     "metadata": {
      "needs_background": "light"
     },
     "output_type": "display_data"
    }
   ],
   "source": [
    "# Figure > BUG\n",
    "fig = plt.figure()\n",
    "ax = fig.add_axes([.1, .1, .75, .75])\n",
    "ax.set_title(f\"Number of sentences in each cluster - {in_title} Colours\", y=1.1)\n",
    "ax.set_xlabel(\"Cluster nr\")\n",
    "ax.axhline(mean_Y, color='r')\n",
    "for l in quantiles_Y:\n",
    "    ax.axhline(l, color='g')\n",
    "ax.bar(X, Z)\n",
    "fig.savefig(\"colours_sents.jpg\")"
   ]
  },
  {
   "cell_type": "code",
   "execution_count": null,
   "metadata": {},
   "outputs": [],
   "source": [
    "\"\"\"\n",
    "    Rules:\n",
    "        - everything above median leaves, if possible\n",
    "        - everything below \n",
    "\"\"\""
   ]
  }
 ],
 "metadata": {
  "interpreter": {
   "hash": "b0fa6594d8f4cbf19f97940f81e996739fb7646882a419484c72d19e05852a7e"
  },
  "kernelspec": {
   "display_name": "Python 3.9.9 64-bit",
   "language": "python",
   "name": "python3"
  },
  "language_info": {
   "codemirror_mode": {
    "name": "ipython",
    "version": 3
   },
   "file_extension": ".py",
   "mimetype": "text/x-python",
   "name": "python",
   "nbconvert_exporter": "python",
   "pygments_lexer": "ipython3",
   "version": "3.9.10"
  },
  "orig_nbformat": 4
 },
 "nbformat": 4,
 "nbformat_minor": 2
}
