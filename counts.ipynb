{
 "cells": [
  {
   "cell_type": "code",
   "execution_count": 2,
   "metadata": {},
   "outputs": [],
   "source": [
    "from paths import annotations_path\n",
    "from statistics import mean, quantiles\n",
    "import matplotlib.pyplot as plt\n",
    "import pandas as pd\n",
    "import json, random"
   ]
  },
  {
   "cell_type": "code",
   "execution_count": 3,
   "metadata": {},
   "outputs": [],
   "source": [
    "# Define data paths\n",
    "base = \"/Users/alikianagnostopoulou/Data/vizwiz/annotations/\" # ???\n",
    "train_path = annotations_path + \"train.json\"\n",
    "# val_path = base + \"val.json\"\n"
   ]
  },
  {
   "cell_type": "code",
   "execution_count": 4,
   "metadata": {},
   "outputs": [],
   "source": [
    "# # Define output paths -- COLOURS\n",
    "# cluster_path = \"out.csv\"\n",
    "# pic1 = \"outputs/colours.jpg\"\n",
    "# first_json = \"outputs/colours_v1.json\"\n",
    "# second_json = \"outputs/colours_v2.json\" \n",
    "# in_title = \"incl.\"\n",
    "# pic2 = \"outputs/colours_sents.jpg\""
   ]
  },
  {
   "cell_type": "code",
   "execution_count": 5,
   "metadata": {},
   "outputs": [],
   "source": [
    "# Define output paths -- NO COLOURS\n",
    "cluster_path = \"out_nocolours.csv\"\n",
    "pic1 = \"outputs/nocolours.jpg\"\n",
    "first_json = \"outputs/nocolours_v1.json\"\n",
    "second_json = \"outputs/nocolours_v2.json\"\n",
    "in_title = \"excl.\"\n",
    "pic2 = \"outputs/nocolours_sents.jpg\""
   ]
  },
  {
   "cell_type": "code",
   "execution_count": 6,
   "metadata": {},
   "outputs": [],
   "source": [
    "# Save keywords from \n",
    "keywords = dict()\n",
    "df = pd.read_csv(cluster_path)\n",
    "columns = list(df.columns)\n",
    "for col in columns:\n",
    "    if col not in keywords:\n",
    "        keywords[col] = list()\n",
    "    kws = df[col].tolist()\n",
    "    for k in kws:\n",
    "        if type(k) == str: # there are empty entries for the sake of the csv formatting\n",
    "            keywords[col].append(k)"
   ]
  },
  {
   "cell_type": "code",
   "execution_count": 7,
   "metadata": {},
   "outputs": [],
   "source": [
    "X, Y = list(), list()\n",
    "\n",
    "for k, v in keywords.items():\n",
    "    X.append(k)\n",
    "    Y.append(len(v))"
   ]
  },
  {
   "cell_type": "code",
   "execution_count": 8,
   "metadata": {},
   "outputs": [
    {
     "data": {
      "image/png": "[encoded data removed]",
      "text/plain": [
       "<Figure size 432x288 with 1 Axes>"
      ]
     },
     "metadata": {
      "needs_background": "light"
     },
     "output_type": "display_data"
    }
   ],
   "source": [
    "# Figure > BUG\n",
    "fig = plt.figure()\n",
    "ax = fig.add_axes([.1, .1, .75, .75])  # ax = fig.add_axes([0,0,1,1])\n",
    "ax.set_title(f\"Number of NPs in each cluster - {in_title} Colours\", y=1.1)\n",
    "ax.set_xlabel(\"Cluster nr\")\n",
    "ax.bar(X, Y)\n",
    "fig.savefig(pic1)"
   ]
  },
  {
   "cell_type": "code",
   "execution_count": 9,
   "metadata": {},
   "outputs": [],
   "source": [
    "with open(train_path, 'r') as jsonfile:\n",
    "    traindata = json.load(jsonfile)"
   ]
  },
  {
   "cell_type": "code",
   "execution_count": 10,
   "metadata": {},
   "outputs": [
    {
     "data": {
      "text/plain": [
       "['ITS IS A BASIL LEAVES CONTAINER ITS CONTAINS THE NET WEIGHT TOO.',\n",
       " 'A green and white plastic condiment bottle containing Basil leaves.',\n",
       " 'Quality issues are too severe to recognize visual content.',\n",
       " 'A bottle of spices in a plastic container laying on a surface.',\n",
       " 'some basil leaves in a container on a counter']"
      ]
     },
     "execution_count": 10,
     "metadata": {},
     "output_type": "execute_result"
    }
   ],
   "source": [
    "# Save captions with their image_id\n",
    "captions = dict()\n",
    "for cap in traindata[\"annotations\"]:\n",
    "    i = cap[\"image_id\"]; c = cap[\"caption\"]\n",
    "    if i not in captions:\n",
    "        captions[i] = list()\n",
    "    captions[i].append(c)\n",
    "\n",
    "captions[0]"
   ]
  },
  {
   "cell_type": "code",
   "execution_count": 11,
   "metadata": {},
   "outputs": [],
   "source": [
    "cluster2image = dict()\n",
    "\n",
    "# Coding from hell\n",
    "for id, sent in captions.items():\n",
    "    # for every image, create dict\n",
    "    cluster2image[id] = dict()\n",
    "    # for every sentence of the image...\n",
    "    for s in sent:\n",
    "        # look into keywords\n",
    "        for k, v in keywords.items():\n",
    "            # for each keyword...\n",
    "            for item in v:\n",
    "                # is the keyword in the sentence?\n",
    "                if item in s:\n",
    "                    # add cluster name to dict!\n",
    "                    if k not in cluster2image[id]:\n",
    "                        cluster2image[id][k] = 0\n",
    "                    cluster2image[id][k] += 1\n",
    "        "
   ]
  },
  {
   "cell_type": "code",
   "execution_count": 12,
   "metadata": {},
   "outputs": [],
   "source": [
    "# Save first version!\n",
    "with open(first_json, 'w') as jsonfile:\n",
    "    json.dump(cluster2image, jsonfile, indent=4, sort_keys=True)"
   ]
  },
  {
   "cell_type": "code",
   "execution_count": 13,
   "metadata": {},
   "outputs": [],
   "source": [
    "# BUG\n",
    "for img in cluster2image:\n",
    "    if cluster2image[img] == dict():\n",
    "        print(img)"
   ]
  },
  {
   "cell_type": "code",
   "execution_count": 14,
   "metadata": {},
   "outputs": [],
   "source": [
    "def keySwithmaxval(d):\n",
    "    itemMaxVal = max(d.items(), key=lambda x: x[1])\n",
    "    listOfKeys = list()\n",
    "    for k, v in d.items():\n",
    "        if v == itemMaxVal[1]:\n",
    "            listOfKeys.append(k)\n",
    "    return listOfKeys"
   ]
  },
  {
   "cell_type": "code",
   "execution_count": 15,
   "metadata": {},
   "outputs": [],
   "source": [
    "# Remove all insignificant ones\n",
    "cluster2image_c = dict()\n",
    "for img in cluster2image:\n",
    "    # fill empty dicts!\n",
    "    if cluster2image[img] != dict():\n",
    "        cluster2image_c[img] = keySwithmaxval(cluster2image[img])"
   ]
  },
  {
   "cell_type": "code",
   "execution_count": 16,
   "metadata": {},
   "outputs": [
    {
     "data": {
      "text/plain": [
       "True"
      ]
     },
     "execution_count": 16,
     "metadata": {},
     "output_type": "execute_result"
    }
   ],
   "source": [
    "# Is there any empty dict?\n",
    "many = list()\n",
    "for img in cluster2image_c:\n",
    "    if len(cluster2image_c[img]) == 0:\n",
    "        many.append(img)\n",
    "\n",
    "len(many) == 0"
   ]
  },
  {
   "cell_type": "code",
   "execution_count": 17,
   "metadata": {},
   "outputs": [],
   "source": [
    "# Save second version\n",
    "with open(second_json, 'w') as jsonfile:\n",
    "    json.dump(cluster2image_c, jsonfile, indent=4, sort_keys=True)"
   ]
  },
  {
   "cell_type": "code",
   "execution_count": 18,
   "metadata": {},
   "outputs": [
    {
     "name": "stdout",
     "output_type": "stream",
     "text": [
      "['0', '1', '2', '3', '4', '5', '6', '7', '8', '9', '10', '11', '12', '13', '14', '15', '16', '17', '18', '19']\n",
      "[1396, 780, 4332, 721, 1741, 3839, 1076, 209, 1466, 2449, 3457, 3117, 1872, 1218, 79, 582, 287, 764, 61, 3]\n",
      "[764, 1466, 1741, 3, 3839, 1218, 3117, 287, 61, 79, 4332, 209, 780, 2449, 1396, 721, 1872, 1076, 582, 3457]\n"
     ]
    },
    {
     "data": {
      "text/plain": [
       "<BarContainer object of 20 artists>"
      ]
     },
     "execution_count": 18,
     "metadata": {},
     "output_type": "execute_result"
    },
    {
     "data": {
      "image/png": "[encoded data removed]",
      "text/plain": [
       "<Figure size 432x288 with 1 Axes>"
      ]
     },
     "metadata": {
      "needs_background": "light"
     },
     "output_type": "display_data"
    }
   ],
   "source": [
    "# Visualize what's going on\n",
    "\n",
    "actual_counts = dict()\n",
    "\n",
    "for k, v in cluster2image_c.items():\n",
    "    for cluster in v:\n",
    "        if cluster not in actual_counts:\n",
    "            actual_counts[cluster] = 0\n",
    "        actual_counts[cluster] += 1\n",
    "\n",
    "X, Y = list(), list()\n",
    "\n",
    "for k, v in actual_counts.items():\n",
    "    X.append(int(k))\n",
    "    Y.append(v)\n",
    "\n",
    "Z = [x for _,x in sorted(zip(X,Y))]\n",
    "X = sorted(X)\n",
    "\n",
    "for i in range(len(X)):\n",
    "    X[i] = str(X[i])\n",
    "\n",
    "print(X); print(Y); print(Z)\n",
    "\n",
    "# STATISTICS\n",
    "\n",
    "mean_Y = mean(Z)\n",
    "quantiles_Y = quantiles(Z)\n",
    "\n",
    "# Figure > BUG\n",
    "fig = plt.figure()\n",
    "ax = fig.add_axes([.1, .1, .75, .75])\n",
    "ax.set_title(f\"Number of sentences in each cluster - {in_title} Colours\", y=1.1)\n",
    "ax.set_xlabel(\"Cluster nr\")\n",
    "ax.axhline(mean_Y, color='r')\n",
    "for l in quantiles_Y:\n",
    "    ax.axhline(l, color='g')\n",
    "ax.bar(X, Z)"
   ]
  },
  {
   "cell_type": "code",
   "execution_count": 19,
   "metadata": {},
   "outputs": [
    {
     "data": {
      "image/png": "[encoded data removed]",
      "text/plain": [
       "<Figure size 432x288 with 1 Axes>"
      ]
     },
     "metadata": {
      "needs_background": "light"
     },
     "output_type": "display_data"
    }
   ],
   "source": [
    "# Figure > BUG\n",
    "fig = plt.figure()\n",
    "ax = fig.add_axes([.1, .1, .75, .75])\n",
    "ax.set_title(f\"Number of sentences in each cluster - {in_title} Colours\", y=1.1)\n",
    "ax.set_xlabel(\"Cluster nr\")\n",
    "ax.axhline(mean_Y, color='r')\n",
    "for l in quantiles_Y:\n",
    "    ax.axhline(l, color='g')\n",
    "ax.bar(X, Z)\n",
    "fig.savefig(\"colours_sents.jpg\")"
   ]
  },
  {
   "cell_type": "code",
   "execution_count": 20,
   "metadata": {},
   "outputs": [
    {
     "data": {
      "text/plain": [
       "'\\n    Rules:\\n        - everything above median leaves, if possible\\n        - everything below 25 quantile stays and only that stays\\n'"
      ]
     },
     "execution_count": 20,
     "metadata": {},
     "output_type": "execute_result"
    }
   ],
   "source": [
    "\"\"\"\n",
    "    Rules:\n",
    "        - everything above median leaves, if possible\n",
    "        - everything below 25 quantile stays and only that stays\n",
    "\"\"\""
   ]
  },
  {
   "cell_type": "code",
   "execution_count": 21,
   "metadata": {},
   "outputs": [
    {
     "name": "stdout",
     "output_type": "stream",
     "text": [
      "['11', '9', '7', '8', '3']\n",
      "['14', '10', '2', '4', '1', '13', '19', '6', '16', '5']\n",
      "15\n"
     ]
    }
   ],
   "source": [
    "# Define weak and strong clusters. \n",
    "# Weak clusters have exceptionally few instances.\n",
    "# Strong clusters have rather many instances (above average)\n",
    "\n",
    "quant_25 = quantiles_Y[0]; quant_50 = quantiles_Y[1]\n",
    "\n",
    "strong_clusters = list()\n",
    "weak_clusters = list()\n",
    "\n",
    "for cluster in actual_counts:\n",
    "    if actual_counts[cluster] < quant_25:\n",
    "        weak_clusters.append(cluster)\n",
    "    elif actual_counts[cluster] > quant_50:\n",
    "        strong_clusters.append(cluster)\n",
    "\n",
    "print(weak_clusters)\n",
    "print(strong_clusters)\n",
    "print(len(weak_clusters) + len(strong_clusters))\n",
    "\n",
    "# 5 clusters are strong to very strong\n",
    "# 5 clusters are very weak"
   ]
  },
  {
   "cell_type": "code",
   "execution_count": 36,
   "metadata": {},
   "outputs": [],
   "source": [
    "def keep_weak(lst, ref):\n",
    "    newlst = list()\n",
    "    for i in lst:\n",
    "        if i in ref:\n",
    "            newlst.append(i)\n",
    "    if newlst == list():\n",
    "        return [random.choice(lst)]\n",
    "    else:\n",
    "        return newlst"
   ]
  },
  {
   "cell_type": "code",
   "execution_count": 37,
   "metadata": {},
   "outputs": [],
   "source": [
    "cluster2image_c2 = dict()\n",
    "\n",
    "for img in cluster2image_c:\n",
    "    # Only if there are multiple options:\n",
    "    cluster2image_c2[img] = 0\n",
    "    if len(cluster2image_c[img]) == 1:\n",
    "        cluster2image_c2[img] = cluster2image_c[img]\n",
    "    else:\n",
    "        new_candidates = list()\n",
    "        for c in cluster2image_c[img]:\n",
    "            if c not in strong_clusters:\n",
    "                new_candidates.append(c)\n",
    "        if len(new_candidates) != 0:\n",
    "            # Random choice already implemented\n",
    "            cluster2image_c2[img] = keep_weak(new_candidates, weak_clusters)\n",
    "        else:\n",
    "            cluster2image_c2[img] = [random.choice(cluster2image_c[img])]\n",
    "\n",
    "# cluster2image_c2\n",
    "count = 0\n",
    "for img in cluster2image_c2:\n",
    "    if len(cluster2image_c2[img]) != 1:\n",
    "        if len(cluster2image_c2[img]) != 2:\n",
    "            print(len(cluster2image_c2[img]))\n"
   ]
  },
  {
   "cell_type": "code",
   "execution_count": 38,
   "metadata": {},
   "outputs": [
    {
     "name": "stdout",
     "output_type": "stream",
     "text": [
      "['0', '1', '2', '3', '4', '5', '6', '7', '8', '9', '10', '11', '12', '13', '14', '15', '16', '17', '18', '19']\n",
      "[1024, 677, 664, 1200, 3110, 3174, 971, 209, 1287, 1632, 2814, 2579, 1471, 929, 79, 535, 287, 727, 61, 3]\n",
      "[727, 1287, 1200, 3, 3110, 929, 2579, 287, 61, 79, 3174, 209, 677, 1632, 1024, 664, 1471, 971, 535, 2814]\n"
     ]
    },
    {
     "data": {
      "image/png": "[encoded data removed]",
      "text/plain": [
       "<Figure size 432x288 with 1 Axes>"
      ]
     },
     "metadata": {
      "needs_background": "light"
     },
     "output_type": "display_data"
    }
   ],
   "source": [
    "# Visualize what's going on\n",
    "\n",
    "actual_counts = dict()\n",
    "\n",
    "for k, v in cluster2image_c2.items():\n",
    "    for cluster in v:\n",
    "        if cluster not in actual_counts:\n",
    "            actual_counts[cluster] = 0\n",
    "        actual_counts[cluster] += 1\n",
    "\n",
    "X, Y = list(), list()\n",
    "\n",
    "for k, v in actual_counts.items():\n",
    "    X.append(int(k))\n",
    "    Y.append(v)\n",
    "\n",
    "Z = [x for _,x in sorted(zip(X,Y))]\n",
    "X = sorted(X)\n",
    "\n",
    "for i in range(len(X)):\n",
    "    X[i] = str(X[i])\n",
    "\n",
    "print(X); print(Y); print(Z)\n",
    "\n",
    "# STATISTICS\n",
    "\n",
    "mean_Y = mean(Z)\n",
    "quantiles_Y = quantiles(Z)\n",
    "\n",
    "# Figure > BUG\n",
    "fig = plt.figure()\n",
    "ax = fig.add_axes([.1, .1, .75, .75])\n",
    "ax.set_title(f\"Number of sentences in each cluster - {in_title} Colours\", y=1.1)\n",
    "ax.set_xlabel(\"Cluster nr\")\n",
    "ax.axhline(mean_Y, color='r')\n",
    "for l in quantiles_Y:\n",
    "    ax.axhline(l, color='g')\n",
    "ax.bar(X, Z)\n",
    "fig.savefig(\"ref.jpg\")"
   ]
  },
  {
   "cell_type": "code",
   "execution_count": null,
   "metadata": {},
   "outputs": [],
   "source": []
  }
 ],
 "metadata": {
  "interpreter": {
   "hash": "b0fa6594d8f4cbf19f97940f81e996739fb7646882a419484c72d19e05852a7e"
  },
  "kernelspec": {
   "display_name": "Python 3.9.9 64-bit",
   "language": "python",
   "name": "python3"
  },
  "language_info": {
   "codemirror_mode": {
    "name": "ipython",
    "version": 3
   },
   "file_extension": ".py",
   "mimetype": "text/x-python",
   "name": "python",
   "nbconvert_exporter": "python",
   "pygments_lexer": "ipython3",
   "version": "3.8.10"
  },
  "orig_nbformat": 4
 },
 "nbformat": 4,
 "nbformat_minor": 2
}
