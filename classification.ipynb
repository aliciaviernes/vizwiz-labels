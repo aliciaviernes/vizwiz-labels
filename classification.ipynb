{
 "cells": [
  {
   "cell_type": "code",
   "execution_count": 49,
   "metadata": {},
   "outputs": [],
   "source": [
    "import pandas as pd\n",
    "import paths as P\n",
    "import json"
   ]
  },
  {
   "cell_type": "code",
   "execution_count": 50,
   "metadata": {},
   "outputs": [],
   "source": [
    "data = pd.read_csv('out.csv')"
   ]
  },
  {
   "cell_type": "code",
   "execution_count": 51,
   "metadata": {},
   "outputs": [],
   "source": [
    "def read_cluster(df, i):\n",
    "    col_list = df[i].tolist()\n",
    "    col_set = set()\n",
    "    for phrase in col_list:\n",
    "        if type(phrase) == str:\n",
    "            col_set.add(phrase)\n",
    "    return col_set"
   ]
  },
  {
   "cell_type": "code",
   "execution_count": 52,
   "metadata": {},
   "outputs": [],
   "source": [
    "all_clusters = dict()\n",
    "for col in data.columns.tolist():\n",
    "    boom = read_cluster(data, col)\n",
    "    all_clusters[int(col)] = list(boom)\n"
   ]
  },
  {
   "cell_type": "code",
   "execution_count": 53,
   "metadata": {},
   "outputs": [
    {
     "data": {
      "text/plain": [
       "20"
      ]
     },
     "execution_count": 53,
     "metadata": {},
     "output_type": "execute_result"
    }
   ],
   "source": [
    "len(all_clusters)"
   ]
  },
  {
   "cell_type": "code",
   "execution_count": 54,
   "metadata": {},
   "outputs": [],
   "source": [
    "train_dir = f'{P.annotations_path}train.json'\n",
    "\n",
    "with open(train_dir, 'r') as jsonfile:\n",
    "    train_data = json.load(jsonfile)"
   ]
  },
  {
   "cell_type": "code",
   "execution_count": 55,
   "metadata": {},
   "outputs": [],
   "source": [
    "which_group_which_caption = dict()\n",
    "\n",
    "for a in train_data['annotations']:\n",
    "    cap = a['caption']\n",
    "    img_id = a['image_id']\n",
    "    if img_id not in which_group_which_caption:\n",
    "        which_group_which_caption[img_id] = dict()\n",
    "    for cluster_nr, phrases in all_clusters.items():\n",
    "        for phrase in phrases:\n",
    "            if phrase in cap:\n",
    "                if cluster_nr not in which_group_which_caption[img_id]:\n",
    "                    which_group_which_caption[img_id][cluster_nr] = 0\n",
    "                which_group_which_caption[img_id][cluster_nr] += 1\n"
   ]
  },
  {
   "cell_type": "code",
   "execution_count": 56,
   "metadata": {},
   "outputs": [],
   "source": [
    "# Function to determine which image can be classified as which group\n",
    "# if there's only one relevant group: keep that\n",
    "# otherwise: keep biggest.\n",
    "# later stage: check for other groups.\n",
    "\n",
    "def keyswithmaxval(d):\n",
    "    if len(d) == 1:\n",
    "        return list(d.keys())\n",
    "    k = list(d.keys()); v = list(d.values())\n",
    "    indices = [i for i, x in enumerate(v) if x == max(v)]\n",
    "    important_groups = list()\n",
    "    for i in indices:\n",
    "        important_groups.append(k[i])\n",
    "    return tuple(important_groups)"
   ]
  },
  {
   "cell_type": "code",
   "execution_count": 58,
   "metadata": {},
   "outputs": [
    {
     "name": "stdout",
     "output_type": "stream",
     "text": [
      "True\n"
     ]
    }
   ],
   "source": [
    "new_json = dict()\n",
    "\n",
    "for img in which_group_which_caption:\n",
    "    # new_json[img] = dict()\n",
    "    groups = which_group_which_caption[img]\n",
    "    new_json[img] = keyswithmaxval(groups)\n",
    "\n",
    "    # print(groups)\n",
    "    # for g in groups:\n",
    "    #     relevant = keyswithmaxval(g)\n",
    "            # print(img, g, groups[g])\n",
    "\n",
    "print(len(new_json) == len(which_group_which_caption))"
   ]
  },
  {
   "cell_type": "code",
   "execution_count": 105,
   "metadata": {},
   "outputs": [
    {
     "name": "stdout",
     "output_type": "stream",
     "text": [
      "20\n"
     ]
    }
   ],
   "source": [
    "D = dict()\n",
    "\n",
    "for img in new_json:\n",
    "    for group in new_json[img]:\n",
    "        if group not in D:\n",
    "            D[group] = 0\n",
    "        D[group] += 1\n",
    "\n",
    "print(len(D))"
   ]
  },
  {
   "cell_type": "code",
   "execution_count": 108,
   "metadata": {},
   "outputs": [],
   "source": [
    "for img in new_json:\n",
    "    if len(new_json[img]) > 1:\n",
    "        if 6 or 10 in new_json:\n",
    "            remove_six = list()\n",
    "            for g in new_json[img]:\n",
    "                if g != 6 or 10:\n",
    "                    remove_six.append(g)\n",
    "            new_json[img] = tuple(remove_six)"
   ]
  },
  {
   "cell_type": "code",
   "execution_count": 110,
   "metadata": {},
   "outputs": [
    {
     "name": "stdout",
     "output_type": "stream",
     "text": [
      "20\n"
     ]
    }
   ],
   "source": [
    "Dplus = dict()\n",
    "\n",
    "for img in new_json:\n",
    "    for group in new_json[img]:\n",
    "        if group not in Dplus:\n",
    "            Dplus[group] = 0\n",
    "        Dplus[group] += 1\n",
    "\n",
    "print(len(Dplus))"
   ]
  },
  {
   "cell_type": "code",
   "execution_count": 111,
   "metadata": {},
   "outputs": [
    {
     "data": {
      "text/plain": [
       "<AxesSubplot:>"
      ]
     },
     "execution_count": 111,
     "metadata": {},
     "output_type": "execute_result"
    },
    {
     "data": {
      "image/png": "[encoded data removed]",
      "text/plain": [
       "<Figure size 432x288 with 1 Axes>"
      ]
     },
     "metadata": {
      "needs_background": "light"
     },
     "output_type": "display_data"
    }
   ],
   "source": [
    "df = pd.DataFrame(Dplus, index=['occurences'])\n",
    "df = df.reindex(sorted(df.columns), axis=1)\n",
    "df.plot(kind='bar')"
   ]
  },
  {
   "cell_type": "code",
   "execution_count": 65,
   "metadata": {},
   "outputs": [],
   "source": [
    "with open(\"pretty_output2.json\", 'w') as out:\n",
    "    json.dump(new_json, out, indent=2)"
   ]
  }
 ],
 "metadata": {
  "interpreter": {
   "hash": "31f2aee4e71d21fbe5cf8b01ff0e069b9275f58929596ceb00d14d90e3e16cd6"
  },
  "kernelspec": {
   "display_name": "Python 3.8.10 64-bit",
   "language": "python",
   "name": "python3"
  },
  "language_info": {
   "codemirror_mode": {
    "name": "ipython",
    "version": 3
   },
   "file_extension": ".py",
   "mimetype": "text/x-python",
   "name": "python",
   "nbconvert_exporter": "python",
   "pygments_lexer": "ipython3",
   "version": "3.8.10"
  },
  "orig_nbformat": 4
 },
 "nbformat": 4,
 "nbformat_minor": 2
}
